{
  "nbformat": 4,
  "nbformat_minor": 0,
  "metadata": {
    "colab": {
      "name": "統計学実践ワークブック",
      "provenance": [],
      "authorship_tag": "ABX9TyN39VuGFhQv9VBygTEUfjm2",
      "include_colab_link": true
    },
    "kernelspec": {
      "name": "python3",
      "display_name": "Python 3"
    },
    "language_info": {
      "name": "python"
    }
  },
  "cells": [
    {
      "cell_type": "markdown",
      "metadata": {
        "id": "view-in-github",
        "colab_type": "text"
      },
      "source": [
        "<a href=\"https://colab.research.google.com/github/shiroutosan/public/blob/master/%E7%B5%B1%E8%A8%88%E5%AD%A6%E5%AE%9F%E8%B7%B5%E3%83%AF%E3%83%BC%E3%82%AF%E3%83%96%E3%83%83%E3%82%AF.ipynb\" target=\"_parent\"><img src=\"https://colab.research.google.com/assets/colab-badge.svg\" alt=\"Open In Colab\"/></a>"
      ]
    },
    {
      "cell_type": "code",
      "metadata": {
        "id": "7iCTmkCDD00g"
      },
      "source": [
        ""
      ],
      "execution_count": null,
      "outputs": []
    },
    {
      "cell_type": "markdown",
      "metadata": {
        "id": "zJo9XSorIDAz"
      },
      "source": [
        "# Q1.1\n",
        "男女共学のA大学の入学試験では、ある年、受験生に占める女子の比率は0.4、\n",
        "<br>合格率は女子：0.5、 男子：0.4\n",
        "\n",
        "（１）この大学の合格率\n",
        "\n",
        "（２）合格者の中からランダムに選んだ一人が女子である確率"
      ]
    },
    {
      "cell_type": "code",
      "metadata": {
        "colab": {
          "base_uri": "https://localhost:8080/"
        },
        "id": "XrkZ4Vo4H79G",
        "outputId": "dd14d4d7-1eb5-4392-9014-488b6c5482c3"
      },
      "source": [
        "print(0.2/0.44)"
      ],
      "execution_count": null,
      "outputs": [
        {
          "output_type": "stream",
          "text": [
            "0.4545454545454546\n"
          ],
          "name": "stdout"
        }
      ]
    },
    {
      "cell_type": "markdown",
      "metadata": {
        "id": "SUyP1mhmIyzD"
      },
      "source": [
        "# A1.1\n",
        "|-|男|女|小計|\n",
        "|:---|:---|:---|:---|\n",
        "|合格|0.24|0.20|0.44|\n",
        "|不合格|0.36|0.20|0.56|\n",
        "|小計|0.60|0.40|1.00|\n",
        "男女別合格率は上表のとおり。\n",
        "\n",
        "（１）0.44\n",
        "\n",
        "（２）$\\frac{0.20}{0.44}≒0.45$"
      ]
    },
    {
      "cell_type": "markdown",
      "metadata": {
        "id": "w7jaow_hK8Nv"
      },
      "source": [
        "# Q1.2\n",
        "1,2,3のいずれかの数字が書かれた正6面体のサイコロ（各面の確率は1/6）がある。\n",
        "\n",
        "1. 1,2,3の数字は少なくとも1面以上存在\n",
        "1. 目の出現確率のうち、$P(X=1)=P(X=2)$\n",
        "1. $E(X)>2$\n",
        "\n",
        "（１）確率変数$X$の期待値と分散\n",
        "\n",
        "（２）サイコロを２度投げ、異なる目が出た場合は大きい方の数字、同じ数字であればその数字を確率変数$Y$とする。$P(Y=3)$\n"
      ]
    },
    {
      "cell_type": "markdown",
      "metadata": {
        "id": "fvBO0gcBMbEH"
      },
      "source": [
        "#A1.2\n",
        "条件1から、X=1～3の出現回数は1～4回\n",
        "\n",
        "条件2から、X=1,2の出現回数は1～2回\n",
        "\n",
        "X=1,2の出現回数2回の場合、目の分布は[1, 2, 3, 1, 2, 3]\n",
        "<br>$E(X)=2$となるので条件3に合わない。\n",
        "<br>したがってX=1,2の出現回数は1回、目の分布は[1, 2, 3, 3, 3, 3]\n",
        "\n",
        "（１）\n",
        "$$\n",
        "E(X)=\\frac{15}{6}=\\frac{5}{2}\\\\\n",
        "V(X)=0.58\n",
        "$$\n",
        "（２）\n",
        "$Y<3$となるのは、出た目の組み合わせが(1,1) (1,2) (2,1) (2,2)の場合のみ。\n",
        "\n",
        "$P(Y=3)=1-\\frac{4}{36}=\\frac{8}{9}$"
      ]
    },
    {
      "cell_type": "code",
      "metadata": {
        "colab": {
          "base_uri": "https://localhost:8080/"
        },
        "id": "sT1fs-sNKS5S",
        "outputId": "6da8e3de-edf2-453c-e3cc-4799160b92e2"
      },
      "source": [
        "# V(X)の計算\n",
        "import numpy as np\n",
        "x = np.array([1, 2, 3, 3, 3, 3])\n",
        "avg = x.mean()\n",
        "print(avg)\n",
        "x2 = x-avg\n",
        "print(x2)\n",
        "x3 = (x2*x2).mean()\n",
        "print(x3)\n",
        "print(7/12)"
      ],
      "execution_count": null,
      "outputs": [
        {
          "output_type": "stream",
          "text": [
            "2.5\n",
            "[-1.5 -0.5  0.5  0.5  0.5  0.5]\n",
            "0.5833333333333334\n",
            "0.5833333333333334\n"
          ],
          "name": "stdout"
        }
      ]
    },
    {
      "cell_type": "markdown",
      "metadata": {
        "id": "65rmQys_Q8Yp"
      },
      "source": [
        "# 1.3\n",
        "\n"
      ]
    },
    {
      "cell_type": "markdown",
      "metadata": {
        "id": "slNpfI_0RGos"
      },
      "source": [
        ""
      ]
    },
    {
      "cell_type": "markdown",
      "metadata": {
        "id": "bnXoI0kyRJe3"
      },
      "source": [
        "# A1.1\n",
        "検査1の混合行列\n",
        "\n",
        "|-|実際　正（T）|実際　負(F)|小計|\n",
        "|:---|:---|:---|:---|\n",
        "|検査　陽性（P）|0.0099|0.0198|0.0297|\n",
        "|検査　陰性（N）|0.0001|0.9702|0.9703|\n",
        "|小計|0.01|0.99|1.00|\n",
        "\n",
        "（１）陽性判定の人が実際に感染している確率\n",
        "\n",
        "$99/297=0.33$\n",
        "\n",
        "（２）\n",
        "\n",
        "本当に感染していて検査１でも検査２でも陽性になる確率：$P(TP)=(99/297)*0.9$\n",
        "\n",
        "実際には感染していないのに検査１でも検査２でも陽性になる確率：$P(FP)=(198/297)*0.1$\n",
        "\n",
        "検査２で陽性で実際に感染している確率は、\n",
        "$\\frac{P(TP)}{P(TP)+P(FP)}≒0.818$"
      ]
    },
    {
      "cell_type": "code",
      "metadata": {
        "colab": {
          "base_uri": "https://localhost:8080/"
        },
        "id": "tX51hNLTOHFE",
        "outputId": "5cf6b1f3-ccb3-41e3-d355-5f6dff63b285"
      },
      "source": [
        "TP = (99/297)*0.9\n",
        "FP = (198/297)*0.1\n",
        "print(TP/(TP+FP))\n",
        "print(9/11)"
      ],
      "execution_count": null,
      "outputs": [
        {
          "output_type": "stream",
          "text": [
            "0.8181818181818182\n",
            "0.8181818181818182\n"
          ],
          "name": "stdout"
        }
      ]
    },
    {
      "cell_type": "code",
      "metadata": {
        "id": "qZPVuA-HVZzp"
      },
      "source": [
        ""
      ],
      "execution_count": null,
      "outputs": []
    },
    {
      "cell_type": "markdown",
      "metadata": {
        "id": "fbsLGHcTD70W"
      },
      "source": [
        ""
      ]
    },
    {
      "cell_type": "code",
      "metadata": {
        "id": "xCKujbzJD8cj"
      },
      "source": [
        ""
      ],
      "execution_count": null,
      "outputs": []
    }
  ]
}